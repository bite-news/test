{
 "cells": [
  {
   "cell_type": "code",
   "execution_count": null,
   "metadata": {},
   "outputs": [],
   "source": [
    "%pip install requests\n",
    "%pip install pandas\n",
    "%pip install beautifulsoup4\n",
    "%pip install boto3\n",
    "%pip install logging"
   ]
  },
  {
   "cell_type": "code",
   "execution_count": 11,
   "metadata": {},
   "outputs": [
    {
     "name": "stderr",
     "output_type": "stream",
     "text": [
      "INFO:root:📡 정치 크롤링 시작 (https://news.naver.com/section/100)\n",
      "DEBUG:urllib3.connectionpool:Starting new HTTPS connection (1): news.naver.com:443\n",
      "DEBUG:urllib3.connectionpool:https://news.naver.com:443 \"GET /section/100 HTTP/1.1\" 200 None\n",
      "DEBUG:urllib3.connectionpool:Starting new HTTPS connection (1): n.news.naver.com:443\n",
      "DEBUG:urllib3.connectionpool:https://n.news.naver.com:443 \"GET /mnews/article/056/0011901161 HTTP/1.1\" 200 None\n"
     ]
    },
    {
     "name": "stdout",
     "output_type": "stream",
     "text": [
      "{'title': '권영세, 민주당 상법 개정안 “경제 정치화…이재명식 양두구육”', 'content': \"국민의힘은 야당이 국회 본회의에서 주주에 대한 이사의 충실 의무 등을 골자로 하는 상법 개정안 처리를 강행하려는 것에 “눈앞의 권력에 눈멀어 경제의 정치화를 조장하고 있다”며 “이재명식 양두구육”이라고 비판했습니다. 국민의힘 권영세 비대위원장은 오늘(27일) 국회에서 열린 비상대책위원회의에서 “상법 개정안은 기업 경영권을 위협하고 경쟁력을 떨어뜨리는 위험천만한 법안”이라며 이같이 밝혔습니다. 권 위원장은 “상장기업 다수를 차지하는 중소중견기업은 소송이 두려워 신산업 진출 등 과감한 투자 결정을 못 하게 될 거고 대한민국에서 기업가 정신은 사라질 것”이라고 지적했습니다. 또 이재명 대표를 향해 “최근 실용주의와 친기업 정책을 표방하지만, 결국 ‘이재명식 양두구육’”이라며 “양 키우겠다면서, 잡아먹을 궁리만 하는 것”이라고 비난했습니다. 그러면서, “민주당은 공직자 탄핵을 남발하며 진보 진영 변호사에게 국민 세금으로 일감을 몰아준 바 있다”면서, “상법 개정으로 인한 소송 남발 사태에 최고 수혜자가 누구인지 법안 개정 의도를 의심하지 않을 수 없다”고 주장했습니다. 권 위원장은 “한 개인의 정치적 목적을 위해 나라 경제정책이 이용당하는 일이 더 이상 발생해선 안 된다”며 “국민의힘은 자유시장경제 가치를 실현할 것”이라고 강조했습니다.[사진 출처 : 연합뉴스]■ 제보하기▷ 전화 : 02-781-1234, 4444▷ 이메일 : kbs1234@kbs.co.kr▷ 카카오톡 : 'KBS제보' 검색, 채널 추가▷ 네이버, 유튜브에서 KBS뉴스를 구독해주세요!\", 'timestamp': datetime.datetime(2025, 2, 27, 9, 24, 32), 'link': 'https://n.news.naver.com/mnews/article/056/0011901161'}\n"
     ]
    },
    {
     "name": "stderr",
     "output_type": "stream",
     "text": [
      "DEBUG:urllib3.connectionpool:Starting new HTTPS connection (1): n.news.naver.com:443\n",
      "DEBUG:urllib3.connectionpool:https://n.news.naver.com:443 \"GET /mnews/article/421/0008100804 HTTP/1.1\" 200 None\n"
     ]
    },
    {
     "name": "stdout",
     "output_type": "stream",
     "text": [
      "{'title': '권성동 \"이재명 정치노선 좌클릭도 우클릭도 아닌 罪클릭\"', 'content': '\"양치기소년도 무릎꿇고 기절할 거짓말 덮어쓰기\"\"명태균특검법은 명태균-민주당 공모 정치 공작\"    권성동 국민의힘 원내대표가 26일 오전 서울 여의도 국회에서 열린 주주 권익 및 기업 가치 제고를 위한 경제단체 간담회에서 발언하고 있다. 2025.2.26/뉴스1 ⓒ News1 이광호 기자(서울=뉴스1) 한상희 손승환 기자 = 권성동 국민의힘 원내대표는 27일 이재명 더불어민주당의 공직선거법 위반 사건과 관련해 \"이 대표의 정치노선은 좌클릭도 아니고 우클릭도 아니다. 오직 \\'죄(罪)클릭\"만 있을 뿐\"이라고 맹비난했다.권 원내대표는 이날 오전 서울 여의도 국회에서 열린 비상대책위원회의에서 \"이 대표는 8개 사건에서 12개 혐의로 5곳의 재판부에서 재판을 받고있다\"며 이같이 말했다.그는 \"이 대표는 공직선거법상의 허위사실공표죄를 두고 \\'전 세계에서 대한민국이 유일하다\\'라고 또 거짓말을 했다\"며 \"양치기 소년도 무릎을 꿇고 기절할 만큼의 거짓말 덮어쓰기\"라고 주장했다. 고 김문기 전 성남도시개발공사 개발1처장을 몰랐다고 했던 이 대표의 발언에 대해서도 \"차라리 대학 시절 고시반에서 함께 공부한 저 권성동도 모르는 사람이라고 하라\"고 비꼬았다. 권 원내대표는 이 대표가 전날 법원 출석 당시 \\'세상의 이치라고 하는 게 다 상식과 원칙대로 가게 돼 있다\\'고 말한 것을 언급하며 \"당연하다. 그래서 이 대표는 그 세상의 이치에 따라 법의 심판을 받게 될 것\"이라고 경고했다. 민주당이 이날 국회 본회의에서 처리할 예정인 \\'명태균 특검법\\'에 대해서는 \"(정치 브로커) 명태균과 민주당이 공모한 정치 공작\"이라고 주장했다. 권 원내대표는 \"한낱 선거 브로커가 하는 허황된 말들을 신의 말씀처럼 떠받들면서 특검을 도입해서 여당과 보수진영을 무차별적으로 초토화하겠다는 것\"이라며 \"조기 대선을 겨냥해 \\'제2의 김대업\\'을 만들겠다는 정략 특검\"이라고 비판했다. 이어 \"명태균은 이제 민주당 사람\"이라며 \"자신이 살기 위해선 이재명을 대통령으로 만들어야 한다는 정치적 판단을 내린 사람\"이라고 지적했다. 그는 \"민주당은 명태균 사건이 비상계엄의 트리거라고 주장한다. 한마디로 \\'뇌피셜\\' 망상소설\"이라고 일축했다. 그러면서 민주당이 검찰이 김건희 여사를 소환하지 않았다며 수사 의지를 문제 삼는 데 대해 \"그럼 이참에 \\'문재인 특검법\\'을 만들어 문 전 대통령을 소환조사해 보면 어떻겠나? ‘이재명 특검법’을 만들어서 총각 사칭 의혹부터 불법 대북송금 사건까지 싹 다 수사해 보면 어떻겠나\"고 반문했다. 마지막으로 권 원내대표 \"중앙지검장과 검사들을 직무정지시켜 놓고 나서 무슨 자격으로 수사 의지를 논하나\"며 \"제비 다리를 부러뜨려 놓고, 날지 못한다고 비난하는 건 놀부만도 못한 심보\"라고 비판했다.', 'timestamp': datetime.datetime(2025, 2, 27, 9, 14, 41), 'link': 'https://n.news.naver.com/mnews/article/421/0008100804'}\n"
     ]
    },
    {
     "name": "stderr",
     "output_type": "stream",
     "text": [
      "DEBUG:urllib3.connectionpool:Starting new HTTPS connection (1): n.news.naver.com:443\n",
      "DEBUG:urllib3.connectionpool:https://n.news.naver.com:443 \"GET /mnews/article/437/0000431468 HTTP/1.1\" 200 None\n"
     ]
    },
    {
     "name": "stdout",
     "output_type": "stream",
     "text": [
      "{'title': '박은정 \"윤, 구치소 \\'32인용 거실\\' 독차지\"…법무부 \"사실 아냐\"', 'content': '윤석열 대통령. 〈자료사진=JTBC 보도화면〉  서울구치소에 수감 중인 윤석열 대통령이 구치소 내에서 32명을 수용할 수 있는 규모의 4개 거실을 독차지하고 있다는 이른바 \\'황제 수용\\' 의혹이 제기됐습니다. 이에 대해 법무부는 \"사실과 다르다\"라고 반박했습니다.  박은정 조국혁신당 의원은 오늘(26일) 국회에서 열린 법제사법위원회 전체회의에서 \\'윤석열 서울구치소 수용 구역 예상 배치도\\'를 공개했습니다. 박 의원은 \"일반 수용자들은 방 하나에 8명씩 수용돼 있는데, 윤석열에게는 수용자 32명이 쓰는 4개의 방이 배정됐다고 한다\"며 김석우 법무부 장관 직무대행에게 사실관계를 물었습니다.     오늘(26일) 박은정 조국혁신당 의원이 윤석열 대통령의 이른바 \\'황제 수용\\' 의혹을 제기하며 공개한 서울구치소 예상 배치도. 〈사진=박은정 의원실〉 이에 김 대행은 \"사실과 다르다\"면서도 \"구체적인 내용을 알려줄 수는 없다\"고 말했습니다.  또 \"윤 대통령이 혼자 4개 수용 거실을 쓰고 있다는 식으로 일반인들이 오해할 수 있을 것 같은데 그건 전혀 사실과 다르다\"라고 재차 강조했습니다. 이어 \"(윤 대통령은) 한 개 실만 쓰고 있고, 12.32㎡(약 3.73평)에서 혼자 지내고 있다\"고 덧붙이면서 이명박 전 대통령과 박근혜 전 대통령 등 역대 대통령이 구금된 구치소 방 크기와 비슷하다고 설명했습니다.     오늘(26일) 국회에서 열린 법제사법위원회 전체회의에 참석한 박은정 조국혁신당 의원(왼쪽)과 김석우 법무부 장관 직무대행. 〈사진=국회방송 유튜브 라이브 캡처〉 김 대행은 특히 예상 배치도에 경호관이 윤 대통령 바로 옆방에 위치한 부분을 지적하며 \"가장 잘못된 부분이다. 기본적으로 경호관은 구치소 내 들어와 있지 않다\"고 반박했습니다. 박 의원이 \"수용 거실에 경호관이 들락거렸다는 제보가 있었다\"고 하자 김 대행은 \"경호관은 구치소와 경호처 사이 협의된 내용에 따라 외부로 출장 가거나 호송할 때만 예외적으로 (들어간다)\"며 \"필요한 경우가 아니면 들어가지 않는 것으로 알고 있다\"고 설명했습니다. 다만 \"외부로 나가거나 할 때 윤 대통령이 있는 곳까지 경호관이 들어갔는지는 별도로 확인할 필요가 있다\"고 덧붙였습니다. 김 대행은 또 \\'윤석열을 위한 별도의 차량 탑승구 설치\\' 의혹에 대해서도 \"사실과 전혀 다르다\"라고 선을 그었습니다. 그러면서 \"별도로 (차량 탑승구를) 설치한 건 아니다. 약간 차이가 있지만 (예상 배치도 속) 그 방향으로 나간 건 맞다\"며 \"경호와 계호가 중첩적으로 발생하는 과정에서 생긴 부분\"이라고 밝혔습니다. 이에 박 의원은 \"그게 특혜 수용\"이라고 강하게 비판했습니다.', 'timestamp': datetime.datetime(2025, 2, 26, 18, 0, 13), 'link': 'https://n.news.naver.com/mnews/article/437/0000431468'}\n"
     ]
    },
    {
     "name": "stderr",
     "output_type": "stream",
     "text": [
      "DEBUG:urllib3.connectionpool:Starting new HTTPS connection (1): n.news.naver.com:443\n",
      "DEBUG:urllib3.connectionpool:https://n.news.naver.com:443 \"GET /mnews/article/422/0000716646 HTTP/1.1\" 200 None\n"
     ]
    },
    {
     "name": "stdout",
     "output_type": "stream",
     "text": [
      "{'title': '대통령실 \"윤대통령 개헌 의지 실현돼 새 시대 열기를\"', 'content': '대통령실은 오늘(26일) 입장문을 내고 \"윤석열 대통령의 개헌 의지가 실현돼 우리 정치가 과거의 질곡에서 벗어나 새로운 시대를 열기를 희망한다\"고 밝혔습니다.이러한 입장은 어제(25일) 윤 대통령이 헌법재판소 탄핵심판 최후진술에서, 직무에 복귀하면 임기 단축 개헌 등을 추진하겠다고 밝힌 데 대해 지지 의사를 밝힌 거로 풀이됩니다.여권 고위 관계자는 연합뉴스TV에 \"1987년 대통령 직선제 개헌 시 헌법 개정 선언 후 4개월이 걸렸다\"며 \"여야가 열린 마음으로 개헌 작업에 나선다면 빠른 기간 안에 개헌이 가능하다\"고 말했습니다.대통령실은 또 \"대통령실 직원들은 각자 위치에서 맡은 바 임무에 최선을 다하겠다\"고 덧붙였습니다.연합뉴스TV 기사문의 및 제보 : 카톡/라인 jebo23', 'timestamp': datetime.datetime(2025, 2, 26, 12, 49, 26), 'link': 'https://n.news.naver.com/mnews/article/422/0000716646'}\n"
     ]
    },
    {
     "name": "stderr",
     "output_type": "stream",
     "text": [
      "DEBUG:urllib3.connectionpool:Starting new HTTPS connection (1): n.news.naver.com:443\n",
      "DEBUG:urllib3.connectionpool:https://n.news.naver.com:443 \"GET /mnews/article/055/0001235308 HTTP/1.1\" 200 None\n",
      "INFO:root:📤 BiteNews에 기사 전송 중: 권영세, 민주당 상법 개정안 “경제 정치화…이재명식 양두구육”\n",
      "DEBUG:urllib3.connectionpool:Starting new HTTP connection (1): 127.0.0.1:8080\n"
     ]
    },
    {
     "name": "stdout",
     "output_type": "stream",
     "text": [
      "{'title': '한동훈 \"계엄 단죄 없이 이재명의 계엄 막을 명분 없다\"', 'content': '▲ 국민의힘 한동훈 전 대표  국민의힘 한동훈 전 대표는 오늘(26일) 윤석열 대통령 탄핵에 찬성했던 데 대해 \"지지자들이 입게 될 마음의 상처를 잘 알기 때문에 정말 힘들었다\"는 심경을 토로했습니다.  한 전 대표는 오늘 출간된 자신의 저서 \\'국민이 먼저입니다\\'에서 \"우리 당이 배출한 대통령 탄핵에 찬성하는 것은 나에게도 굉장히 고통스러운 결정이었다. 윤 대통령과의 오랜 인연을 생각하면 더욱 그랬다\"며 이같이 말했습니다.  그는 \"탄핵으로 인해 마음 아픈 분들 생각하면 지금도 가슴이 저민다\"며 \"당과 보수, 대한민국을 위해 불가피한 결정이라고 판단했지만, 매우 고통스러웠다. 비판은 감당하겠다\"고 밝혔습니다.  한 전 대표는 \"(더불어민주당) 이재명 대표에 대한 유죄 판결 확정이 그리 멀지 않은 상황이었고, 시간은 우리 편이었다\"며 \"그런 상황에서 도대체 무엇 때문에 이런 일(비상계엄 선포)을 한 것인지 안타깝고 답답했다\"고 회고했습니다.  한 전 대표는 \"민주당이 자행한 폭거들로 인해 대통령이 느꼈을 좌절감과 국가의 미래에 대한 우려에 대해 공감한다. 내가 어느 누구보다 더 공감한다\"고 강조했습니다.  그러면서도 \"이 모든 문제는 정치와 사법 시스템으로 풀어야 할 일들\"이라며 \"아무리 민주당의 폭거가 극심했다 하더라도 그걸 비상계엄으로 일거에 해결하려는 의도가 대통령 담화에서 드러난 이상 이 계엄은 위헌·위법이었다. 이런 상황에 이른 것이 너무 마음 아프고 안타까웠다\"고 말했습니다.  이어 \"법무부 장관 출신 여당 대표가 자신의 당이 배출한 대통령의 비상계엄을 신속하고 강력하게 반대하는 것이 상황을 바로잡는 데 결정적인 역할을 할 수 있다고 확신했다\"고 적었습니다.  한 전 대표는 \"지금도 계엄을 막으려 한 나를 배신자라고 부르는 프레임 씌우기가 진행되고 있다\"며 \"하지만 묻고 싶다. 만약 그때 계엄을 해제시키지 못했다면 우리나라, 우리 경제와 안보, 보수진영 그리고 우리 당이 어떤 처지에 처하게 됐을까\"라고 반문했습니다.  그러면서 \"우리는 계엄을 막은 당이어야 한다\"며 \"계엄을 옹호한 당이 돼서는 미래가 없다\"고 강조했습니다.  한 전 대표는 또 \"이재명 대표가 대통령이 될 경우 자신에 대한 유죄 판결 확정을 막기 위해 무슨 일이든 할 것이라고 생각한다\"며 \"지금 계엄을 엄정히 단죄하지 않으면 이재명의 계엄을 막을 명분이 없다\"고 주장했습니다.  그는 \"불법 계엄을 해도 조기 퇴진도 거부하고 탄핵도 당하지 않으면 대통령직을 유지할 수 있는 전례를 만든다고 가정해보자\"며 \"이재명 같은 사람이 대통령이 되면 전례를 내세워 사법부를 통제하고, 자신의 유죄 판결을 막으려고 몇 번이고 계엄을 할 수 있다\"고 말했습니다.  한 전 대표는 지난해 12월 12일 의원총회에서 윤 대통령의 대국민 담화에 대해 \\'사실상 내란을 자백하는 취지\\'라고 말해 당내에서 비판을 받은 데 대해 \"사전에 준비한 발언이 아니었다\"며 \"돌아보니 어차피 차차 법적 판단이 이뤄질 텐데 그 시점에 내가 말하지 않았으면 좋았을 것이란 생각이 든다. 내가 부족했다\"고 말했습니다.', 'timestamp': datetime.datetime(2025, 2, 26, 14, 17, 58), 'link': 'https://n.news.naver.com/mnews/article/055/0001235308'}\n"
     ]
    },
    {
     "name": "stderr",
     "output_type": "stream",
     "text": [
      "DEBUG:urllib3.connectionpool:http://127.0.0.1:8080 \"POST /ai/video HTTP/1.1\" 201 65\n",
      "INFO:root:📥 FastAPI 응답 수신 완료: {'status': 'success', 'message': '✅ 기사 숏폼 생성 성공!'}\n",
      "INFO:root:✅ 숏폼 생성 완료: 권영세, 민주당 상법 개정안 “경제 정치화…이재명식 양두구육”\n",
      "INFO:root:📤 BiteNews에 기사 전송 중: 권성동 \"이재명 정치노선 좌클릭도 우클릭도 아닌 罪클릭\"\n",
      "DEBUG:urllib3.connectionpool:Starting new HTTP connection (1): 127.0.0.1:8080\n",
      "DEBUG:urllib3.connectionpool:http://127.0.0.1:8080 \"POST /ai/video HTTP/1.1\" 201 65\n",
      "INFO:root:📥 FastAPI 응답 수신 완료: {'status': 'success', 'message': '✅ 기사 숏폼 생성 성공!'}\n",
      "INFO:root:✅ 숏폼 생성 완료: 권성동 \"이재명 정치노선 좌클릭도 우클릭도 아닌 罪클릭\"\n",
      "INFO:root:📡 경제 크롤링 시작 (https://news.naver.com/section/101)\n",
      "DEBUG:urllib3.connectionpool:Starting new HTTPS connection (1): news.naver.com:443\n",
      "DEBUG:urllib3.connectionpool:https://news.naver.com:443 \"GET /section/101 HTTP/1.1\" 200 None\n",
      "DEBUG:urllib3.connectionpool:Starting new HTTPS connection (1): n.news.naver.com:443\n",
      "DEBUG:urllib3.connectionpool:https://n.news.naver.com:443 \"GET /mnews/article/018/0005952260 HTTP/1.1\" 200 None\n"
     ]
    },
    {
     "name": "stdout",
     "output_type": "stream",
     "text": [
      "{'title': '삼성·LG, iF디자인어워드서 최고상…로봇 볼리·투명TV 등 금상', 'content': \"삼성전자, AI 로봇 ‘볼리’·패키지 디자인 ‘보자기’ 금상LG전자, 무선·투명TV 'LG시그니처 올레드T' 금상[이데일리 김소연 기자] 삼성전자와 LG전자가 세계 3대 디자인상 중 하나인 ‘iF 디자인 어워드 2025(International Forum Design Award 2025)’에서 최고상인 금상을 받았다고 27일 밝혔다. iF 디자인 어워드는 ‘레드닷 디자인 어워드(Red Dot Design Award)’, ‘IDEA(International Design Excellence Award)’와 함께 세계 3대 디자인상으로 꼽힌다. △제품 △커뮤니케이션 △사용자 경험(UX) △사용자 인터페이스(UI) △패키지 △인테리어 △콘셉트 △건축 △서비스 디자인 등 9개 부문에서 디자인의 차별성과 우수성을 평가해 상을 수여한다.삼성전자(005930)는 홈 인공지능(AI) 컴패니언 로봇 ‘볼리’와 소형 포터블 프로젝터의 패키지 디자인 ‘보자기’로 최고상인 금상을 수상했다. 이를 포함해 제품 부문에서 36개, UX·UI 부문에서 8개, 콘셉트 부문에서 9개, 커뮤니케이션 부문에서 4개, 서비스 디자인 부문에서 1개 등 총 58개에서 상을 받았다.    iF 디자인 어워드 2025 금상 ‘볼리’.(사진=삼성전자)금상을 수상한 볼리는 인공지능(AI) 기반으로 사용자의 생활 패턴을 학습해 일정 관리, 가전 제어 등 다양한 기능을 수행하는 홈 AI 컴패니언 로봇이다. 볼리는 사용자와 눈을 바라보고 인사하는 형상으로, 친근한 느낌을 전달하고자 작고 둥근 외형에 노란색과 부드러운 재질감을 더한 디자인이 특징이다.또 다른 금상 수상작 보자기는 소형 포터블 프로젝터의 선행 콘셉트 패키지로, 보자기라는 한국 전통 도구에서 영감을 받아 자투리 천을 활용해 특별한 디자인을 완성했다. 형태에 구애 받지 않고 다양한 모양의 제품을 지속가능하게 포장하고 재사용할 수 있도록 디자인됐다.    iF 디자인 어워드 2025 금상 ‘보자기’.(사진=삼성전자)LG전자(066570)는 세계 최초 무선·투명 TV인 ‘LG 시그니처 올레드 T(LG SIGNATURE OLED T, 모델명: 77T4)’가 최고상인 금상을 받았다. LG 시그니처 올레드 T는 투명한 스크린을 가진 올레드 TV다. 리모컨 조작만으로 ‘블랙 스크린’과 ‘투명 스크린’ 모드를 전환할 수 있으며 무선 AV 송·수신 기술이 적용돼 공간의 제약에서 벗어나 자유롭게 설치 가능하다.LG전자는 금상을 포함해 총 36개 상을 수상했다. 제품 디자인 부문에서는 27개 상을 받았다. △스마트홈 허브 ‘LG AI 홈’ △화면부를 스탠드와 손쉽게 분리해 자유롭게 활용 가능한 ‘LG 스탠바이미 2’ △투명 올레드 기술로 문을 열지 않고도 냉장고 안을 확인할 수 있는 ‘LG 시그니처 스마트 인스타뷰’ 등이 디자인 우수성을 인정받았다.    LG전자의 세계 최초 무선·투명 TV인 ‘LG 시그니처 올레드 T’가 ‘iF 디자인 어워드’에서 최고상인 금상을 수상했다. (사진=LG전자)\", 'timestamp': datetime.datetime(2025, 2, 27, 8, 53, 11), 'link': 'https://n.news.naver.com/mnews/article/018/0005952260'}\n"
     ]
    },
    {
     "name": "stderr",
     "output_type": "stream",
     "text": [
      "DEBUG:urllib3.connectionpool:Starting new HTTPS connection (1): n.news.naver.com:443\n",
      "DEBUG:urllib3.connectionpool:https://n.news.naver.com:443 \"GET /mnews/article/011/0004455364 HTTP/1.1\" 200 None\n"
     ]
    },
    {
     "name": "stdout",
     "output_type": "stream",
     "text": [
      "{'title': '롯데건설, 서초구 본사 매각 등 ‘1조 원’ 규모 유동성 확보 추진[시그널]', 'content': \"잠원동 본사 5000억 수준주거시설 개발 가능해 관심창고·토지 매각도 고려 중    롯데건설 로고. 서울경제DB[서울경제] 롯데건설이 서울 서초구 본사 부지를 포함한 1조 원 규모 자산 일부를 유동화하는 방안을 추진 중이다. 27일 투자은행(IB) 업계에 따르면 롯데건설 측은 최근 부동산 컨설팅 업체에 본사 부지 매각과 자체 개발, 자산 매각 후 재임대(세일즈앤리스백) 등 다양한 옵션에 따른 수익성 비교 분석을 의뢰했다. 수도권 창고 부지와 사업 토지 등에 대한 자산의 활용 방안도 모색한다는 방침이다. 롯데건설 측은 결과를 받아본 뒤 컨설팅을 위한 용역사를 선정할 계획이다.서울 서초구 잠원동 아파트 단지 사이에 위치한 롯데건설 본사 사옥은 부지 면적이 약 1만㎡로 자산 가치가 약 5000억 원 수준으로 평가된다. 롯데건설이 1980년부터 본사로 사용 중인 곳이다. 사옥은 주거 선호도가 높은 서초구 잠원구 내에 있는 데다가 지난 2023년 9월 지구단위계획 특별계획구역으로 결정되며 주거시설로 개발도 가능해 시행사 및 자산운용사 등의 관심이 예상된다.특히 한남대교 남단 경부고속도로 초입에 위치해 향후 한남IC~양재IC 구간을 대상으로 한 ‘경부고속도로 지하화 사업'에 대한 기대감도 있다.나아가 나머지 자산까지 모두 매각할 경우 롯데건설은 총 1조 원 가량을 확보할 수 있을 전망이다.롯데건설의 이런 결정은 계열사의 비효율 자산 정리를 추진하는 그룹 기조에 따른 것으로 분석된다. 롯데그룹은 최근 전 계열사를 대상으로 비핵심 사업 및 자산 매각을 진행 중이다.롯데건설 측은 “이 같은 컨설팅을 통해 보유자산 효율화가 이뤄지면 차입금 및 부채비율 감소와 경상이익 개선에 도움이 될 것”이라며 “내년에는 부채비율이 150%로 낮춰지고, 경상이익도 1000억 원 이상 추가로 증가할 전망”이라고 말했다.\", 'timestamp': datetime.datetime(2025, 2, 27, 8, 54, 12), 'link': 'https://n.news.naver.com/mnews/article/011/0004455364'}\n"
     ]
    },
    {
     "name": "stderr",
     "output_type": "stream",
     "text": [
      "DEBUG:urllib3.connectionpool:Starting new HTTPS connection (1): n.news.naver.com:443\n",
      "DEBUG:urllib3.connectionpool:https://n.news.naver.com:443 \"GET /mnews/article/421/0008100577 HTTP/1.1\" 200 None\n"
     ]
    },
    {
     "name": "stdout",
     "output_type": "stream",
     "text": [
      "{'title': \"'경쟁력 악화' e커머스 모두 적자 와중에…쿠팡만 '나홀로 흑자'\", 'content': '쿠팡 작년 6023억 흑자…11번가·SSG·롯데온·G마켓 모두 적자작년 4Q 쿠팡 프로덕트 커머스, 5개사 연 매출 합계보다 많아    서울 송파구 쿠팡 본사. 2021.3.12/뉴스1 ⓒ News1 신웅수 기자(서울=뉴스1) 문창석 기자 = 국내 e커머스 업계가 부진에 빠진 가운데 쿠팡만 지난해 대규모 영업이익을 기록하는 등 \\'나홀로\\' 성장을 이어가고 있다. 쿠팡은 배송·가격·상품 등 핵심 요소에서 모두 성공을 거두며 e커머스 시장을 주도하는 모양새다.쿠팡은 지난해 매출이 41조 2901억 원(302억 6800만 달러·분기별 평균 환율 적용)을 기록해 전년(31조 8298억 원) 대비 29% 증가했다고 26일 미국 증권거래위원회(SEC)에 공시했다. 영업이익은 6023억 원(4억 3600만 달러)으로 전년 대비 2.4% 감소했다.영업이익은 소폭 감소했지만 2023년에 이어 2년 연속 연간 흑자를 달성했다. 매출도 사상 처음으로 40조 원을 돌파하며 신기록을 새로 썼다.부진 빠진 국내 이커머스 업계…\\'시장 잠재력 한계\\' 우려도현재 쿠팡을 제외한 국내 e커머스 업계는 매출과 수익성이 점차 악화하는 가운데 업체 간 경쟁까지 심화하면서 부진을 겪고 있다. 국내 주요 e커머스 기업들은 지난해 모두 연간 적자를 기록하는 등 부진에 빠진 상황이다.지난해 이커머스 기업들의 영업손실 규모는 △11번가 754억 원 △SSG닷컴 727억 원 △롯데온 685억 원 △G마켓 674억 원 등이다. 이들은 모두 전년과 비교해 적자 폭을 줄인 것을 위안으로 삼고 있다. 쿠팡을 제외하고 매출액 기준 규모가 가장 큰 네이버 쇼핑(커머스 부문)은 지난해 영업이익 규모를 공개하지 않고 있다.특히 국내 e커머스 시장 잠재력이 한계에 달하고 있다는 우려도 나온다. 통계청에 따르면 국내 e커머스 플랫폼 거래액은 지난해 10월과 11월 각각 20조 2056억 원, 21조 1415억 원으로 전년 동기 대비 0.3%, 0.7% 늘어나는 데 그쳤다. 지난해 12월 거래금액은 3.2% 증가했다.    ⓒ News1 김지영 디자이너쿠팡만 \\'흑자\\' 성공…이커머스 포화에도 세부 지표 \\'성장 추세\\'다만 쿠팡의 경우 배송·가격·상품 등 핵심 요소에서 모두 성공을 거두며 온라인 시장을 주도하고 있다. 지난해 6000억 원에 달한 쿠팡의 영업이익은 모두 적자를 기록하는 등 부진에 빠진 국내 주요 이커머스 기업들의 실적과 대비된다.국내 사업에선 지난해 새벽·당일배송을 45% 가까이 늘리고 당일 배송의 주문 마감 시간을 2시간 연장하면서 고객 경험과 가치를 높인 점이 실적에 반영된 것으로 분석된다. 또 대형 가전제품·가구·자동차 타이어 등 수천 개 품목에 대한 익일 로켓배송의 범위를 확대하고, 신선식품 새벽배송 상품군도 30% 이상 늘리면서 견조한 매출을 올리는 데 기여했다.실제로 지난해 로켓배송 등 쿠팡의 프로덕트 커머스 매출은 전년 대비 18% 성장한 36조 4093억 원(266억 9900만 달러)으로 집계됐다. 지난해 4분기 매출로만 한정해도 9조 6042억원인데, 이는 네이버 쇼핑·SSG닷컴·G마켓·11번가·롯데온 등 5개 사의 지난해 연간 매출을 모두 더한 수치(6조 1413억 원)보다도 많다.특히 국내 e커머스 시장 자체가 포화 상태임에도 쿠팡의 세부 지표는 성장 추세다. 지난해 말 기준 쿠팡의 프로덕트 커머스 부문 활성고객(분기에 제품을 한 번이라도 산 고객)은 2280만 명으로 전년(2080만 명)보다 10% 늘었으며, 고객 1인당 매출은 44만 6500원(320달러)으로 전년 대비 6% 증가했다.본업뿐만 아니라 부업도 호조세다. 명품 이커머스 파페치, 대만 로켓배송, 쿠팡이츠 등 글로벌 성장 사업의 지난해 매출은 4조 8808억 원(35억 6900만 달러)으로, 전년 대비 4배 이상 뛰는 성과를 보였다.쿠팡, 올해 매출 20% 성장 전망…명품·해외·배달 등 성장사업도 \\'맑음\\'쿠팡은 올해도 20% 수준의 매출 성장세를 이어갈 것으로 전망하고 있다. 파페치·대만·쿠팡이츠 등 성장사업 부문도 지난해 4분기 매출이 300% 성장했는데, 올해도 성장사업의 모멘텀이 지속될 것으로 예상된다.올해 쿠팡은 고객을 최우선에 두고 혁신하고, 통제된 운영 방식과 장기적 안목으로 지속적으로 투자를 계속할 방침이다. 회사 측은 자동화 기술에 대한 활용도 향상과 공급망 최적화 등을 통해 마진을 증가시킬 수 있다고 보고 있다.김범석 쿠팡Inc 의장은 이날 4분기 및 연간 실적 콘퍼런스콜에서 올해 사업 전략에 대해 \"지속적으로 고객을 최우선에 두고 혁신, 통제된 운영 방식과 장기적 안목으로 거대한 기회에 지속적으로 투자를 계속해 나갈 것\"이라고 밝혔다.', 'timestamp': datetime.datetime(2025, 2, 27, 6, 30), 'link': 'https://n.news.naver.com/mnews/article/421/0008100577'}\n"
     ]
    },
    {
     "name": "stderr",
     "output_type": "stream",
     "text": [
      "DEBUG:urllib3.connectionpool:Starting new HTTPS connection (1): n.news.naver.com:443\n",
      "DEBUG:urllib3.connectionpool:https://n.news.naver.com:443 \"GET /mnews/article/001/0015236541 HTTP/1.1\" 200 None\n"
     ]
    },
    {
     "name": "stdout",
     "output_type": "stream",
     "text": [
      "{'title': 'SKT, MWC서 15개 AI 스타트업과 협업 프로젝트 소개', 'content': '(서울=연합뉴스) 조성미 기자 = SK텔레콤이 다음 달 스페인 바르셀로나에서 열리는 세계 최대 이동통신 전시회 \\'모바일 월드 콩그레스\\'(MWC 2025)의 스타트업 지원 부대행사 \\'4YFN\\'에서 AI 스타트업 15개 사와 협업 사례를 선보인다고 27일 밝혔다.    \\'4YFN\\'(4 Years from Now)은 유망 스타트업을 발굴해 교류의 장을 마련하는 별도 전시회로 MWC가 열리는 피라 그란비아에서 다음 달 3∼6일 진행된다.    SK텔레콤은 AI 스타트업 성장 지원 프로그램을 통해 \\'K-AI 얼라이언스\\'에 합류한 \\'엑스엘에잇(XL8)\\', \\'노타AI\\', \\'나비프라\\' 등 스타트업과 AI 혁신 기술을 공개한다.    엑스엘에잇은 AI를 사용한 실시간 자막 통역 서비스 \\'이벤트캣\\'을 개발한 곳으로 지난해 열린 \\'SK AI 서밋\\'에서 전체 행사의 실시간 통역을 자막 형태로 제공했다.    나비프라는 AI 기반 물류 로봇 자율 주행 서비스 기업으로 다수의 로봇을 제어하고 모니터링할 수 있는 로봇 관제 시스템 기술을 보유하고 있다.    박중태 나비프라 대표는 \"MWC 2025에서 AI 기반 초정밀 로봇 자율주행 설루션 및 100대 이상의 멀티 로봇 교착 방지 관제 설루션을 세계 시장에 소개할 것\"이라고 밝혔다.    엄종환 SKT ESG추진 실장은 \"작년에 이어 올해도 AI 혁신 스타트업을 주제로 전시 부스를 구성했다\"고 소개했다.    SKT, AI 스타트업과의 협업 프로젝트 소개 및 글로벌 진출 지원(서울=연합뉴스) SK텔레콤은 MWC24의 부대행사인 4YFN(4 Years from Now)에서 \"Global AI Company, Collaborate with Startups\"를 슬로건으로 글로벌 진출을 희망하는 AI스타트업 15개 사와 함께 SK텔레콤과의 AI 협업사례 및 혁신 아이디어와 기술을 전 세계에 선보였다고 28일 밝혔다. 사진은 SK텔레콤-스타트업 부스. 2024.2.28 [SK텔레콤 제공. 재판매 및 DB 금지] photo@yna.co.kr    csm@yna.co.kr', 'timestamp': datetime.datetime(2025, 2, 27, 9, 46, 35), 'link': 'https://n.news.naver.com/mnews/article/001/0015236541'}\n"
     ]
    },
    {
     "name": "stderr",
     "output_type": "stream",
     "text": [
      "DEBUG:urllib3.connectionpool:Starting new HTTPS connection (1): n.news.naver.com:443\n",
      "DEBUG:urllib3.connectionpool:https://n.news.naver.com:443 \"GET /mnews/article/001/0015236234 HTTP/1.1\" 200 None\n",
      "INFO:root:📤 BiteNews에 기사 전송 중: 삼성·LG, iF디자인어워드서 최고상…로봇 볼리·투명TV 등 금상\n",
      "DEBUG:urllib3.connectionpool:Starting new HTTP connection (1): 127.0.0.1:8080\n"
     ]
    },
    {
     "name": "stdout",
     "output_type": "stream",
     "text": [
      "{'title': '[2보] 美 엔비디아 분기 매출, 시장 예상치보다 3.3% 더 많아', 'content': '엔비디아 로고[로이터 연합뉴스 자료사진. 재판매 및 DB 금지](샌프란시스코=연합뉴스) 김태종 특파원 = 인공지능(AI) 칩 대장주 엔비디아는 지난 분기(2024년 11월∼2025년 1월) 393억3천만 달러의 매출과 0.89달러의 주당 순이익을 기록했다고 26일(현지시간) 밝혔다.     매출은 시장조사 업체 LSEG가 집계한 월스트리트 평균 예상치 매출 380억5천만 달러보다 3.3% 높은 수준이다. 주당 순이익도 예상치 0.84달러를 웃돌았다.     이어 엔비디아는 이번 분기(2∼4월) 매출이 430억 달러 안팎에 이를 것으로 예상한다고 밝혔다. 이는 LSEG 예상치인 417억8천만 달러에 비해 2% 정도 높은 수치다.     taejong75@yna.co.kr    [그래픽] 엔비디아 실적 추이(서울=연합뉴스) 김영은 기자 = 0eun@yna.co.kr    X(트위터) @yonhap_graphics  페이스북 tuney.kr/LeYN1', 'timestamp': datetime.datetime(2025, 2, 27, 6, 33, 44), 'link': 'https://n.news.naver.com/mnews/article/001/0015236234'}\n"
     ]
    },
    {
     "name": "stderr",
     "output_type": "stream",
     "text": [
      "DEBUG:urllib3.connectionpool:http://127.0.0.1:8080 \"POST /ai/video HTTP/1.1\" 201 65\n",
      "INFO:root:📥 FastAPI 응답 수신 완료: {'status': 'success', 'message': '✅ 기사 숏폼 생성 성공!'}\n",
      "INFO:root:✅ 숏폼 생성 완료: 삼성·LG, iF디자인어워드서 최고상…로봇 볼리·투명TV 등 금상\n",
      "INFO:root:📤 BiteNews에 기사 전송 중: 롯데건설, 서초구 본사 매각 등 ‘1조 원’ 규모 유동성 확보 추진[시그널]\n",
      "DEBUG:urllib3.connectionpool:Starting new HTTP connection (1): 127.0.0.1:8080\n",
      "DEBUG:urllib3.connectionpool:http://127.0.0.1:8080 \"POST /ai/video HTTP/1.1\" 201 65\n",
      "INFO:root:📥 FastAPI 응답 수신 완료: {'status': 'success', 'message': '✅ 기사 숏폼 생성 성공!'}\n",
      "INFO:root:✅ 숏폼 생성 완료: 롯데건설, 서초구 본사 매각 등 ‘1조 원’ 규모 유동성 확보 추진[시그널]\n",
      "INFO:root:📤 BiteNews에 기사 전송 중: SKT, MWC서 15개 AI 스타트업과 협업 프로젝트 소개\n",
      "DEBUG:urllib3.connectionpool:Starting new HTTP connection (1): 127.0.0.1:8080\n",
      "DEBUG:urllib3.connectionpool:http://127.0.0.1:8080 \"POST /ai/video HTTP/1.1\" 201 65\n",
      "INFO:root:📥 FastAPI 응답 수신 완료: {'status': 'success', 'message': '✅ 기사 숏폼 생성 성공!'}\n",
      "INFO:root:✅ 숏폼 생성 완료: SKT, MWC서 15개 AI 스타트업과 협업 프로젝트 소개\n",
      "INFO:root:📡 사회 크롤링 시작 (https://news.naver.com/section/102)\n",
      "DEBUG:urllib3.connectionpool:Starting new HTTPS connection (1): news.naver.com:443\n",
      "DEBUG:urllib3.connectionpool:https://news.naver.com:443 \"GET /section/102 HTTP/1.1\" 200 None\n",
      "DEBUG:urllib3.connectionpool:Starting new HTTPS connection (1): n.news.naver.com:443\n",
      "DEBUG:urllib3.connectionpool:https://n.news.naver.com:443 \"GET /mnews/article/005/0001759884 HTTP/1.1\" 200 None\n"
     ]
    },
    {
     "name": "stdout",
     "output_type": "stream",
     "text": [
      "{'title': '안성 건설 현장 사고 수사 본격화… 고속도로 개통 지연 불가피', 'content': '경찰, 시공사 등 관계자 소환 조사CCTV 영상 분석 및 사망자 부검고속도로 개통 1년 이상 늦어질 듯    지난 25일 경기도 안성시 서울세종고속도로 안성~용인 구간 공사 현장에서 교각 위 구조물이 붕괴되는 사고가 발생한 가운데 소방대원들이 구조 작업을 하고 있다. 안성=권현구 기자10명의 사상자가 발생한 서울세종고속도로 건설 현장 교각 붕괴 사고를 수사 중인 경찰이 현장 관계자들을 소환조사하는 등 수사에 속도를 내고 있다.경기남부경찰청 고속도로 붕괴 사고 수사전담팀은 26일 시공사인 현대엔지니어링과 하도급사 관계자들을 불러 조사했다.하도급사들은 거더(다리 상판 밑에 까는 보의 일종)를 설치하는 작업과 거더 위에 슬라브(상판)를 얹는 작업을 맡았다.경찰은 회사 관계자로부터 거더 등을 사전 제작해 현장에서 조립하는 방식이 절차에 맞게 이뤄졌는지, 안전 수칙을 준수했는지, 작업자 교육이 적절했는지 등을 확인하고 있다.경찰은 또 시공사로부터 사고 당시 현장 CCTV를 확보해 영상을 분석 중이다. 영상을 보면 2개씩 일렬로 선 교각 위에 콘크리트 재질의 거더 6개가 1세트로 걸쳐져 있고, 그 위로 런처(거더 인양 및 설치 장비)가 설치돼 있다.영상 시작 2초 만에 거더 6개가 우측으로 서서히 움직이더니 불과 5초 만에 거더가 아래로 붕괴한다. 그 뒤로 다른 거더 3세트가 거의 시차를 두지 않고 무너진다.경찰은 붕괴한 거더가 별다른 고정 장치 없이 교각 위에 올려져 있던 것으로 추정하고, 교량 건설 과정 전반에 대한 수사를 진행할 방침이다. 또 사망한 작업자 4명의 시신을 국립과학수사연구원에 부검 의뢰해 정확한 사인을 파악하고 있다.현대엔지니어링은 이날 주우정 대표이사 명의의 공식 입장문을 내고 “당사가 시공 중인 공사현장에서 결코 일어나선 안 될 사고가 발생했다”며 “삼가 고인의 명복을 빌며 유가족분들께 머리 숙여 사죄드린다”고 밝혔다. 부상자와 가족들에게도 “사과드리고 빠른 쾌유를 빈다”고 덧붙였다.주 대표는 “회사의 모든 역량을 총동원해 피해자 지원과 사고수습에 만전을 기하고 있다”며 “조속한 현장 수습과 정확한 사고 원인 규명을 위해 관계 기관에 적극 협조하고 있다”고 설명했다. 이어 “모든 조사에 성실히 임하고 최선을 다해 필요한 조치를 하겠다”며 “향후 이 같은 사고가 재발하지 않도록 대책을 수립해 철저히 이행할 것”이라고 약속했다.이번 사고로 당초 2026년 말로 예상되던 서울세종고속도로 개통 시기가 1년 이상 늦춰질 것이라는 관측이 나온다.  앞서 2017년 8월 경기 평택시 팽성읍 신대리 평택국제대교 건설 현장에서 발생한 붕괴 사고 역시 사고 조사 과정이 장기화되면서 준공 시기가 당초 2018년 12월에서 2020년 1월로 늦춰지기도 했다.', 'timestamp': datetime.datetime(2025, 2, 26, 18, 32, 9), 'link': 'https://n.news.naver.com/mnews/article/005/0001759884'}\n"
     ]
    },
    {
     "name": "stderr",
     "output_type": "stream",
     "text": [
      "DEBUG:urllib3.connectionpool:Starting new HTTPS connection (1): n.news.naver.com:443\n",
      "DEBUG:urllib3.connectionpool:https://n.news.naver.com:443 \"GET /mnews/article/277/0005552754 HTTP/1.1\" 200 None\n"
     ]
    },
    {
     "name": "stdout",
     "output_type": "stream",
     "text": [
      "{'title': '울산시, 블루수소 충전 인프라 구축 투자유치', 'content': '2월 27일, 울산시-덕양가스 투자협약 체결청정수소 생태계 조성·수소도시 기반 구축울산시가 블루수소 충전 기반(인프라) 구축 투자를 유치했다. 이에 따라 블루수소 생산부터 유통, 공급에 이르기까지 신규 유통망이 구축돼 수소경제의 마중물 역할을 할 것으로 기대된다.블루수소는 탄소 포집과 저장 기술(CCS)을 활용해 이산화탄소 배출량을 줄인 수소를 말한다.울산시와 덕양가스는 27일 오전 11시 시청 본관 7층 시장실에서 김두겸 울산시장과 이치윤 덕양가스 대표이사 등이 참석한 가운데 블루수소 충전 기반(인프라) 구축 투자협약(MOU)을 체결한다.이번 투자협약에 따라 덕양가스는 울산·미포국가산단 부곡용연지구 내 부지(1만 186㎡)에 180억원을 투입, 오는 2026년 8월까지 블루수소 충전 기반을 구축한다.블루수소 충전 기반은 생산된 수소를 저장했다가 수소튜브트레일러에 고압(200bar)으로 적재하는 역할을 담당하는 수소 유통 과정에서 필수적인 시설이다.오는 2026년 9월부터 연간 최대 2000t의 수소를 공급할 예정으로 이는 수소승용차 40만대가 사용 가능한 양이다.특히 덕양가스는 블루수소 충전 인프라 구축과 관련해 지역민을 우선 채용하는 등 지역 내 일자리 창출과 경제 활성화에도 기여할 것으로 예상된다.울산시는 이번 투자사업의 성공적인 추진과 안정적인 정착을 위해 기업과 지속적으로 협력하고 신속한 인허가 등 적극적인 행정지원에 나설 방침이다.이치윤 덕양가스 대표이사는 “이번 블루수소 충전 인프라 구축에 대한 울산시의 관심과 행정지원에 감사드린다”라며 “이번 투자로 수소도시 울산이 더욱 발전할 수 있도록 기여하겠다”라고 말했다.김두겸 시장은 “이번 투자로 수소 분야에서 덕양가스 입지가 더욱 공고해질 것으로 기대한다”라며 “울산이 세계적인 블루수소 선도 도시로 도약할 수 있도록 최선을 다하겠다\"라고 말했다·덕양가스는 고압가스 제조·판매회사로서 울산 북구에 본사를 두고 있다. 지난 1964년 설립돼 수소 등 산업용 가스를 생산·공급하고 가스 관련 기술개발(엔지니어링) 사업에도 참여하고 있다.    울산시청.', 'timestamp': datetime.datetime(2025, 2, 27, 8, 11, 23), 'link': 'https://n.news.naver.com/mnews/article/277/0005552754'}\n"
     ]
    },
    {
     "name": "stderr",
     "output_type": "stream",
     "text": [
      "DEBUG:urllib3.connectionpool:Starting new HTTPS connection (1): n.news.naver.com:443\n",
      "DEBUG:urllib3.connectionpool:https://n.news.naver.com:443 \"GET /mnews/article/022/0004014573 HTTP/1.1\" 200 None\n"
     ]
    },
    {
     "name": "stdout",
     "output_type": "stream",
     "text": [
      "{'title': '‘성추행 혐의’ 김진하 양양군수 주민소환 무산', 'content': '투표율 32.25%… 개표 기준 미달구속 상태 金, 업무복귀 바로 못해27일 성추행·금품수수 관련 첫 재판강제추행과 뇌물수수 혐의로 재판에 넘겨진 김진하 강원 양양군수에 대한 주민소환투표 결과 투표율이 개표 기준인 33.3%를 넘지 못해 개표가 무산됐다. 주민소환제가 도입된 2007년부터 지방자치단체장을 대상으로 한 주민소환투표는 일곱 차례 진행됐지만 모두 투표함을 여는데 실패했다.  \\xa0         김진하 강원 양양군수. 뉴스1    강원도선거관리위원회는 김 군수에 대한 주민소환투표 투표율이 32.25%를 기록했다고 26일 밝혔다. 양양군 전체 유권자 2만4925명 중 8038명이 투표에 참여했다. 이날 오전 6시 시작된 투표는 양양지역 22개 투표소에서 오후 8시까지 진행됐다. 투표율이 개표 기준을 넘지 못하면서 투표함은 그대로 봉인 절차를 밟았다. 김 군수에 대한 직무정지 역시 해제될 예정이지만, 구속된 김 군수가 당장 업무에 복귀할 수 있는 상황은 아니다.  행정안전부에 따르면 주민소환제가 도입된 2007년부터 지난해까지 147건이 청구됐고 이 가운데 11건만 투표로 이어졌다. 투표를 한 11건 중 투표율 33.3%를 달성해 개표까지 이어진 사례는 기초지자체 의원을 대상으로 한 2건에 불과했다. 성공률은 1.36%다. 개표한 2건은 모두 가결됐고 경기 하남시의원 2명이 직을 상실했다. 나머지 136건 중 진행 중인 4건을 제외한 132건은 서명 미달과 철회 등을 이유로 투표 없이 무산됐다.  김 군수는 이번 투표와 별개로 강제추행과 뇌물수수 혐의로 구속된 상태다. 지난해 9월 여성 민원인이 운영하는 카페에서 바지를 내리는 등 부적절한 행동을 하고 금품을 수수했다는 의혹을 받고 있다. 해당 장면은 카페 내 폐쇄회로(CC)TV에 찍힌 것으로 알려졌다. 김 군수는 자신에게 제기된 모든 의혹이 사실이 아니라고 주장하고 있다. 김 군수에 대한 첫 재판은 27일 춘천지법 속초지원에서 열린다.', 'timestamp': datetime.datetime(2025, 2, 27, 6, 3, 24), 'link': 'https://n.news.naver.com/mnews/article/022/0004014573'}\n"
     ]
    },
    {
     "name": "stderr",
     "output_type": "stream",
     "text": [
      "DEBUG:urllib3.connectionpool:Starting new HTTPS connection (1): n.news.naver.com:443\n",
      "DEBUG:urllib3.connectionpool:https://n.news.naver.com:443 \"GET /mnews/article/023/0003890397 HTTP/1.1\" 200 None\n"
     ]
    },
    {
     "name": "stdout",
     "output_type": "stream",
     "text": [
      "{'title': '법원, 이재명 공직선거법 2심 다음 달 26일 선고', 'content': '檢, 징역 2년 구형…1심은 징역 1년·집행유예 2년    2025년 2월 26일 오후 서울 서초구 서울중앙지방법원에서 이재명 대표가 공판에 출석하기 위해 청사로 향하고 있다. / 장련성 기자\\t\\t\\t\\t\\t\\t\\t\\t\\t\\t이재명 더불어민주당 대표의 공직선거법 위반 사건 항소심 선고가 오는 3월 26일 오후 2시에 열린다.26일 서울고법 형사 6-2부(재판장 최은정)는 이 대표 항소심 결심 공판을 열고 다음 달 26일을 선고 기일로 잡았다. 검찰은 1심과 같은 징역 2년을 구형했다. 이 대표는 “구형이 중요한 게 아니라 실체가 중요하다. 사법부가 현명하게 그리고 정의롭게 실체적 진실에 입각해서 잘 판단할 것으로 생각한다”고 말했다.◇檢 “대통령 당선을 위한 반복적 거짓말”이 대표는 지난 대선을 앞둔 2021년 12월 방송 4곳에서 대장동 개발 실무자인 고(故) 김문기 전 성남도시개발공사 처장을 성남시장 재임 기간에 알았으면서도 몰랐다고 하고, 2021년 10월 국정감사에 나와 “국토교통부 협박으로 백현동 개발 부지 용도를 4단계 상향 조정했다”고 거짓말한 혐의(공직선거법 위반)로 2022년 9월 불구속 기소됐다.작년 11월 15일 1심은 이 대표에게 징역 1년에 집행유예 2년을 선고했다. “2015년 호주 출장 중 김 전 처장과 골프를 치지 않았다”와 백현동 부지 용도 변경과 관련한 이 대표 발언은 유죄를 인정했지만, “김 전 처장을 성남시장 재직 시절에는 몰랐고 경기지사가 된 후 알았다”는 말은 무죄라고 봤다.이날 검찰은 이 대표에게 징역 2년을 선고해달라고 재판부에 요청하면서 이 대표가 김 전 처장을 모른다고 한 부분에 대해 “김 전 처장과의 골프는 외유성이라는 논란을 피하기 위해 사전에 은밀히 준비됐고, 시간은 유동규까지 전 성남도시개발공사 기획본부장까지 3명이 5시간이었다”고 반박했다. 이 대표가 이틀 후 김 전 처장과 낚시를 함께한 점도 강조하며 “소수 인원과 낚시한 기억은 특별했을 게 분명하다”고 했다.이 대표의 백현동 거짓말 의혹에 대해서는 “피고인은 해당 발언 후 3년 반이 지나서도 (국토부 협박을 받은) 성남시 공무원이 누구인지, 언제 협박이 있었는지 특정하지 못하고 있다”고 했다.이어 구체적인 양형 사유를 설명하면서 “피고인이 국민적 관심이 최고조에 달했던 20대 대선에서 성남시장 시절 책임을 회피하고 (대통령) 당선을 위해 반복적으로 거짓말을 한 매우 중대한 사안”이라고 했다. 이어 “1위 후보와의 표차가 0.7%포인트였다는 점을 고려하면 피고인의 거짓말은 많은 유권자의 선택에 영향을 미친 것이 명백하다”고 했다.그러면서 “선거의 공정성과 민주주의라는 헌법 가치를 지키기 위해서는 거짓말로 유권자의 선택을 왜곡한 사람에 대해 지위 고하를 막론하고 공정한 처벌이 반드시 필요하다”고 했다.검찰은 이 대표의 자서전을 인용해 그의 범죄 혐의의 중대성을 강조하기도 했다. 검찰은 “피고인은 자서전에서 ‘거짓말 역시 국민과 자신에게 언젠가 씻을 수 없는 상처를 남긴다’면서 ‘선거에 지는 한이 있더라도 최소한 국민을 상대로 거짓말하지 말자는 것이 나의 소신이었다’고 했다”고 했다. 그러면서 이 대표가 페이스북에 올린 “가짜뉴스를 생산·유포하는 행위는 민주주의의 적이자 청산해야 할 대표적 적폐”라는 글도 언급했다.◇이재명 “김문기 ‘몰랐다’는 ‘기억에 없다’ 뜻반면 이 대표는 이날 피고인 신문에서 김 전 처장을 몰랐다고 한 발언에 대해 “기억에 남아 있지 않다는 뜻이었다”며 혐의를 부인했다. 이 대표는 2021년 12월 방송에서 ‘호주 여행을 11일이나 갔는데 어떻게 김 전 처장을 모를 수 있냐’는 질문에 대한 답변은 “‘거짓말하려는 게 아니라 접촉은 했겠지만 ‘기억에 남아 있지 않다’ ‘인지를 못 했다’는 취지였다”고 말했다.의혹이 제기됐을 당시 국민의힘이 제시한 이 대표와 김 전 처장 등의 호주 여행 사진에 대해 “조작한 거죠”라고 말한 데 대해서는 ‘즉흥적으로 답변하는 과정에서 나온 것 아니냐’는 변호인 질문에 “네”라고 답했다.백현동 관련 허위 발언 혐의에 대해서는 변호인이 ‘당시 구체적인 사실관계를 기억하지 못해 관련 설명이 조금 부정확하게 이뤄지고 정확하지 못한 표현이 튀어나오지 않았냐’는 취지의 질문에 “의무가 있는 걸 안 하면 ‘그게 문제가 된다’(고 한) 기억이 있어서 법률적 표현을 쓴 것”이라고 말했다.    더불어민주당 이재명 대표가 26일 서울고등법원에서 열린 공직선거법 위반 혐의 사건 2심 결심 공판을 마친 뒤 법정을 나서며 발언하고 있다. /연합뉴스\\t\\t\\t\\t\\t\\t\\t\\t\\t\\t◇李 “검찰 과해...허위라고 생각하고 말한 바 없어” 28분간 토로이 대표는 이날 오후 7시 13분부터 시작한 최후 변론에서 약 28분간 손짓을 하고 때로는 방청석도 응시하며 격정적으로 혐의를 반박했다. 이 대표는 “시장이 하는 일이 설명하기 어려울 정도로 많다”며 “기억하지 못하고 관심 갖지 못한 건 아예 입력도 안 된다”고 김 전 처장에 대해 허위로 발언할 의도가 없었다는 취지로 반박했다.‘백현동’ 발언과 관련해선 “‘협박’이라고 제가 과하게 표현했다”면서도 “처음엔 점잖게 ‘압박’이라고 했다가 얘기하다보니 협박이라고 표현해 문제된 발언을 했다”고 했다. 이어 “이걸 정확하게 물적 증거 없이 표현한 건 잘못”이라며 “표현상 제 부족함이라는 걸 감안해주시길 요청한다”고 했다.이 대표는 ‘위증교사 사건’ ‘검사 사칭 사건’ ‘법인카드 사건’ 등 그동안 본인이 기소된 여러 사건들을 언급하며 “너무 답답해서 드린 말씀인데, 하여튼 너무 검찰이 과하다”며 “저는 허위라고 생각하고 말한 바가 없다”고 주장했다. 또 “정상적인 검찰권 행사라고 생각되지 않는다. 제가 말을 나름 조심하는데도 하지도 않은 말을 이렇게 해석된다고 하면 어떻게 정치인이 말하겠느냐”고 했다.그러면서 “어쨌든 잘못이 있을 수 있다. 근데 저는 나름대로 최선을 다했다는 부탁을 드리고 싶다”며 잠시 방청석 쪽을 바라보기도 했다.이 대표는 재판을 마친 뒤 기자들에게 “구형이 중요한 게 아니라 실체가 중요하다. 사법부가 현명하게 그리고 정의롭게 실체적 진실에 입각해서 잘 판단할 것으로 생각한다”고 했다.이 대표 변호인도 최후 변론에서 “이 사건 공소 사실은 통상적인 허위 사실 공표와는 다르다. 해석과 추론에 의해서 허위 사실 공표 대상의 외연을 최대한 확장해서 구성한 것”이라며 “정적 제거 연장선에 있다. 인간의 기억력 한계를 무시하고, 부정확한 부분을 찾아내 허위 사실 공표를 문제 삼아 징역형을 선고하는 게 맞는 것인지 다시 한번 고려해달라”고 했다.◇벌금 100만원 이상 확정 시 대선 출마 불가1심에 이어 항소심에서도 징역형을 선고받고 이후 대법원 판단을 거쳐 형이 확정되면 이 대표는 국회의원직을 잃고 다음 대선을 포함해 향후 10년간 선거에 출마할 수 없게 된다. 선거법 사건은 벌금 100만원 이상이 확정되면 선거에 나갈 수 없다.아울러 공직선거법상 선거사범 재판 1심은 기소 후 6개월 내, 2·3심은 전심 선고 후 3개월 내 선고해야 한다고 규정한다. 이 대표의 1심이 작년 11월 15일에 나온 점을 감안하면, 2심 선고는 원래 이달 15일까지 이뤄져야 했다. 하지만 이보다 약 한 달 뒤에 2심 결론이 나오게 됐다.', 'timestamp': datetime.datetime(2025, 2, 26, 17, 39, 10), 'link': 'https://n.news.naver.com/mnews/article/023/0003890397'}\n"
     ]
    },
    {
     "name": "stderr",
     "output_type": "stream",
     "text": [
      "DEBUG:urllib3.connectionpool:Starting new HTTPS connection (1): n.news.naver.com:443\n",
      "DEBUG:urllib3.connectionpool:https://n.news.naver.com:443 \"GET /mnews/article/277/0005552668 HTTP/1.1\" 200 None\n",
      "INFO:root:📤 BiteNews에 기사 전송 중: 울산시, 블루수소 충전 인프라 구축 투자유치\n",
      "DEBUG:urllib3.connectionpool:Starting new HTTP connection (1): 127.0.0.1:8080\n"
     ]
    },
    {
     "name": "stdout",
     "output_type": "stream",
     "text": [
      "{'title': '\"하늘이 도왔다\" 교량 붕괴 30ｍ 추락에도 경상 그친 생존자', 'content': '추락 사고 직후 가족에 생존담 전달산비탈 흙더미로 떨어져 충격 완화 추정서울세종고속도로 청룡천교 붕괴 사고로 10명의 사상자가 발생한 가운데, 사고 현장에서 수십 미터 아래로 추락한 60대가 극적으로 생존한 것으로 알려졌다. 대형 사고에도 비교적 몸 상태가 심각하지 않은 것으로 알려진 그는 가족에게 \"하늘이 도왔다\"고 말한 것으로 전해졌다.    25일 경기 안성시 서운면 산평리 소재 서울세종고속도로 천안~안성구간 9공구 천용천교 건설 현장에서 교량 연결작업 중 교각에 올려놓았던 상판이 무너지는 사고가 발생했다. 사진은 사고 현장 모습. 연합뉴스26일 연합뉴스 보도에 따르면 중국 국적 근로자 A(62)씨는 전날 경기 안성시 서운면 산평리 서울세종고속도로 천안~안성 구간 9공구 청룡천교 건설 현장에서 콘크리트 상판 구조물과 함께 추락했다. 그는 사고 초기 얼굴 등에 찰과상과 타박상을 입은 경상자로 분류됐다가, 안와골절 등으로 이날 화성시 한 대학병원에서 수술받고 회복 중이다.A씨는 현재 거동이 불편한 상태지만, 대형 사고를 당했는데도 비교적 몸 상태가 심각하지 않은 것으로 알려졌다. 사고 직후 A씨는 가족에게 \"30m 아래로 떨어진 것 같다\"며 \"하늘이 도왔다\"고 말한 것으로 전해졌다. 반면 A씨를 제외한 다른 근로자 5명은 크게 다쳐 중환자실 등에서 치료받고 있다.사고 당시 A씨는 교량 상판 구조물인 거더(대들보 기능의 구조물)에 설치된 런처(거더를 인양·설치하는 대형 장비)를 후방으로 이동시키는 작업 중이었던 것으로 파악됐다. A씨가 어느 지점에 있었는지는 정확히 조사되지 않았으나, 런처 아래 부근에 있다가 거더가 V자 모양으로 붕괴하면서 같이 추락한 것으로 전해졌다.사고가 발생한 교량 높이는 최고 52m다. 다만 A씨는 추락 지점과 가까운 산비탈 아래 흙더미로 떨어지면서 다른 작업자들보다 상대적으로 작은 충격을 받았을 것으로 추정된다.이번 사고는 25일 오전 9시49분께 경기도 안성시 서운면 산평리 서울세종고속도로 천안~안성 구간 9공구 청룡천교 건설 현장에서 발생했다. 교량 상판 구조물이 무너지면서 교량 위에서 작업하던 10명이 추락해 4명이 숨지고 5명이 중상을 입었다. 경찰은 현장 CCTV를 확보해 수사에 착수했다.', 'timestamp': datetime.datetime(2025, 2, 26, 20, 47, 48), 'link': 'https://n.news.naver.com/mnews/article/277/0005552668'}\n"
     ]
    },
    {
     "name": "stderr",
     "output_type": "stream",
     "text": [
      "DEBUG:urllib3.connectionpool:http://127.0.0.1:8080 \"POST /ai/video HTTP/1.1\" 201 65\n",
      "INFO:root:📥 FastAPI 응답 수신 완료: {'status': 'success', 'message': '✅ 기사 숏폼 생성 성공!'}\n",
      "INFO:root:✅ 숏폼 생성 완료: 울산시, 블루수소 충전 인프라 구축 투자유치\n"
     ]
    }
   ],
   "source": [
    "import os\n",
    "import json\n",
    "import requests\n",
    "import logging\n",
    "import time\n",
    "from bs4 import BeautifulSoup\n",
    "from datetime import datetime, timedelta\n",
    "\n",
    "# 로깅 설정\n",
    "logging.basicConfig(level=logging.DEBUG)\n",
    "\n",
    "# 헤더 설정 (크롤링 차단 방지)\n",
    "header = {\n",
    "    \"User-Agent\": (\"Mozilla/5.0 (Windows NT 10.0; Win64; x64) AppleWebKit/537.36 \"\n",
    "                   \"(KHTML, like Gecko) Chrome/104.0.0.0 Safari/537.36\"),\n",
    "}\n",
    "\n",
    "# 크롤링할 네이버 뉴스 카테고리\n",
    "categories = {\n",
    "    \"정치\": \"https://news.naver.com/section/100\",\n",
    "    \"경제\": \"https://news.naver.com/section/101\",\n",
    "    \"사회\": \"https://news.naver.com/section/102\",\n",
    "}\n",
    "\n",
    "# 현재 시간 (UTC+9 기준)\n",
    "CURRENT_TIME = datetime.now()\n",
    "\n",
    "# 📰 개별 기사 크롤링 함수\n",
    "def scrape_article(article_url):\n",
    "    try:\n",
    "        time.sleep(1)  # 요청 간격 조정\n",
    "        response = requests.get(article_url, headers=header)\n",
    "        soup = BeautifulSoup(response.text, \"html.parser\")\n",
    "\n",
    "        # 기사 제목 찾기\n",
    "        title_tag = soup.find(\"h2\", {\"id\": \"title_area\"})\n",
    "        title = title_tag.text.strip() if title_tag else \"제목 없음\"\n",
    "\n",
    "        # 기사 본문 찾기\n",
    "        content_tag = soup.find(\"article\", {\"id\": \"dic_area\"})\n",
    "        content = content_tag.text.strip().replace('\\\\\"', '\"').replace(\"\\n\", \" \") if content_tag else \"본문 없음\"\n",
    "\n",
    "        # 기사 생성 시간 찾기\n",
    "        timestamp_tag = soup.find(\"span\", {\"class\": \"media_end_head_info_datestamp_time _ARTICLE_DATE_TIME\"}) \n",
    "        if timestamp_tag and \"data-date-time\" in timestamp_tag.attrs:\n",
    "            article_time = datetime.strptime(timestamp_tag[\"data-date-time\"], \"%Y-%m-%d %H:%M:%S\")\n",
    "        else:\n",
    "            article_time = None\n",
    "\n",
    "        return {\n",
    "            \"title\": title,\n",
    "            \"content\": content,\n",
    "            \"timestamp\": article_time,\n",
    "            \"link\": article_url\n",
    "        }\n",
    "    except Exception as e:\n",
    "        logging.error(f\"기사 크롤링 실패: {article_url}, 오류: {e}\")\n",
    "        return None\n",
    "\n",
    "# ⏳ 3시간 이내 기사 필터링 함수\n",
    "def filter_recent_articles(article_urls):\n",
    "    valid_articles = []\n",
    "    three_hours_ago = CURRENT_TIME - timedelta(hours=3)\n",
    "\n",
    "    for url in article_urls:\n",
    "        article_data = scrape_article(url)\n",
    "        print(article_data)\n",
    "\n",
    "        if not article_data or not article_data[\"timestamp\"]:\n",
    "            continue\n",
    "\n",
    "        # 3시간 이내 기사만 추가\n",
    "        if article_data[\"timestamp\"] >= three_hours_ago:\n",
    "            article_data[\"timestamp\"] = article_data[\"timestamp\"].strftime(\"%Y-%m-%dT%H:%M:%S+09:00\")\n",
    "            valid_articles.append(article_data)\n",
    "    return valid_articles\n",
    "\n",
    "# 📌 헤드라인 뉴스 크롤링 함수\n",
    "def check_for_new_articles(base_url, category):\n",
    "    try:\n",
    "        response = requests.get(base_url, headers=header)\n",
    "        soup = BeautifulSoup(response.text, \"html.parser\")\n",
    "\n",
    "        news_data = []\n",
    "        headline_list = soup.find(\"ul\", class_=\"sa_list\")\n",
    "        \n",
    "        if not headline_list:\n",
    "            logging.warning(f\"{category}: 헤드라인 뉴스 리스트를 찾을 수 없음\")\n",
    "            return\n",
    "\n",
    "        for item in headline_list.find_all(\"li\", class_=\"sa_item _SECTION_HEADLINE\")[:5]:\n",
    "            title_tag = item.find(\"a\", class_=\"sa_text_title\")\n",
    "            if not title_tag:\n",
    "                continue\n",
    "\n",
    "            title = title_tag.find(\"strong\", class_=\"sa_text_strong\").text.strip()\n",
    "            link = title_tag[\"href\"]\n",
    "\n",
    "            # 상대 URL인 경우 절대 경로로 변환\n",
    "            if link.startswith(\"/\"):\n",
    "                link = f\"https://news.naver.com{link}\"\n",
    "\n",
    "            news_data.append({'title': title, 'link': link})\n",
    "\n",
    "        # 🔥 3시간 이내 기사 필터링\n",
    "        article_links = [news[\"link\"] for news in news_data]\n",
    "        recent_articles = filter_recent_articles(article_links)\n",
    "\n",
    "        # 결과 출력\n",
    "        for article in recent_articles:\n",
    "            post_article_to_server(article)\n",
    "            # print(json.dumps(article, ensure_ascii=False, indent=4))\n",
    "\n",
    "    except Exception as e:\n",
    "        logging.error(f\"{category} 크롤링 실패: {e}\")\n",
    "\n",
    "def post_article_to_server(article_data):\n",
    "    headers = {\"Content-Type\": \"application/json\"}\n",
    "    \n",
    "    try:\n",
    "        logging.info(f\"📤 BiteNews에 기사 전송 중: {article_data['title']}\")\n",
    "        response = requests.post(\"http://127.0.0.1:8080/ai/video\", json=article_data, headers=headers)\n",
    "        if response.status_code == 201:\n",
    "            response_data = response.json()\n",
    "            logging.info(f\"📥 FastAPI 응답 수신 완료: {response_data}\")\n",
    "\n",
    "            # ✅ 숏폼 생성 완료 or 실패 로그 남김\n",
    "            if response_data.get(\"status\") == \"success\":\n",
    "                logging.info(f\"✅ 숏폼 생성 완료: {article_data['title']}\")\n",
    "            else:\n",
    "                logging.warning(f\"⚠️ 숏폼 생성 실패: {article_data['title']}, 이유: {response_data.get('message', '알 수 없음')}\")\n",
    "\n",
    "        else:\n",
    "            logging.error(f\"❌ BiteNews 오류 {response.status_code}: {response.text}\")\n",
    "    except requests.exceptions.RequestException as e:\n",
    "        logging.error(f\"❌ BiteNews 서버 연결 실패: {e}\")\n",
    "\n",
    "# 🔄 전체 카테고리 크롤링 실행 함수\n",
    "def scrap_all_categories():\n",
    "    for category, base_url in categories.items():\n",
    "        logging.info(f\"📡 {category} 크롤링 시작 ({base_url})\")\n",
    "        check_for_new_articles(base_url, category)\n",
    "        time.sleep(1)  # 요청 간격 조정\n",
    "\n",
    "# 크롤링 실행\n",
    "scrap_all_categories()\n"
   ]
  }
 ],
 "metadata": {
  "kernelspec": {
   "display_name": "Python 3",
   "language": "python",
   "name": "python3"
  },
  "language_info": {
   "codemirror_mode": {
    "name": "ipython",
    "version": 3
   },
   "file_extension": ".py",
   "mimetype": "text/x-python",
   "name": "python",
   "nbconvert_exporter": "python",
   "pygments_lexer": "ipython3",
   "version": "3.12.3"
  }
 },
 "nbformat": 4,
 "nbformat_minor": 2
}
